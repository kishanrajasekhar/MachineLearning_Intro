{
 "cells": [
  {
   "cell_type": "code",
   "execution_count": null,
   "metadata": {
    "collapsed": true
   },
   "outputs": [],
   "source": [
    "import numpy as np\n",
    "import matplotlib.pyplot as plt\n",
    "import mltools as ml\n",
    "\n",
    "\n",
    "X = np.genfromtxt(\"data/X_train.txt\")\n",
    "Y = np.genfromtxt(\"data/Y_train.txt\")\n",
    "\n",
    "Xt, Xv, Yt, Yv = ml.splitData(X, Y, 0.80)\n",
    "\n",
    "Xe = np.genfromtxt('data/X_test.txt')"
   ]
  },
  {
   "cell_type": "code",
   "execution_count": null,
   "metadata": {
    "collapsed": true
   },
   "outputs": [],
   "source": [
    "nClust = 15\n",
    "np.random.seed(0)\n",
    "Z,T,pZ,ll = ml.cluster.gmmEM(Xt[:10000,:],K=nClust,init='k++',max_iter=50)\n",
    "\n",
    "Cluster_GMM = ml.bayes.gaussClassify()\n",
    "# Manually copy the EM Gaussian components into the Gaussian Bayes Classifier:\n",
    "Cluster_GMM.classes = np.arange(nClust)\n",
    "Cluster_GMM.means = T['mu']\n",
    "Cluster_GMM.covars = [ T['sig'][:,:,i]+.05*np.eye(Xt.shape[1]) for i in range(nClust) ]\n",
    "Cluster_GMM.probs = T['pi']\n",
    "\n",
    "# Find cluster membership probabilities for each data set:\n",
    "XtC = Cluster_GMM.predictSoft(Xt)\n",
    "XvC = Cluster_GMM.predictSoft(Xv)\n",
    "XeC = Cluster_GMM.predictSoft(Xe)\n",
    "\n",
    "# Create extended feature set:  features X times membership probability for each cluster\n",
    "XtC2 = np.einsum('ij,ik->ijk',XtC,Xt).reshape((Xt.shape[0],Xt.shape[1]*nClust))\n",
    "XvC2 = np.einsum('ij,ik->ijk',XvC,Xv).reshape((Xv.shape[0],Xv.shape[1]*nClust))\n",
    "XeC2 = np.einsum('ij,ik->ijk',XeC,Xe).reshape((Xe.shape[0],Xe.shape[1]*nClust))\n",
    "\n",
    "# Regress (should really use a classifier...)\n",
    "linr2 = ml.linear.linearRegress(XtC2,Yt, reg=1e-3)\n",
    "Pv3 = linr2.predict(XvC2)[:,0]\n",
    "Pe3 = linr2.predict(XeC2)[:,0]\n",
    "\n",
    "#toKaggle('Pe3.csv',Pe3)\n",
    "print \"3: Clustered LinRegress: MSE ~\",linr2.mse(XvC2,Yv),'; AUC = ',auc(Pv3,Yv)"
   ]
  }
 ],
 "metadata": {
  "anaconda-cloud": {},
  "kernelspec": {
   "display_name": "Python [conda root]",
   "language": "python",
   "name": "conda-root-py"
  },
  "language_info": {
   "codemirror_mode": {
    "name": "ipython",
    "version": 2
   },
   "file_extension": ".py",
   "mimetype": "text/x-python",
   "name": "python",
   "nbconvert_exporter": "python",
   "pygments_lexer": "ipython2",
   "version": "2.7.12"
  }
 },
 "nbformat": 4,
 "nbformat_minor": 1
}
