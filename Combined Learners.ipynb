{
 "cells": [
  {
   "cell_type": "markdown",
   "metadata": {},
   "source": [
    "## Imports and Data"
   ]
  },
  {
   "cell_type": "code",
   "execution_count": 37,
   "metadata": {
    "collapsed": false
   },
   "outputs": [],
   "source": [
    "import numpy as np\n",
    "import matplotlib.pyplot as plt\n",
    "import mltools as ml\n",
    "from sklearn.ensemble import AdaBoostClassifier\n",
    "from sklearn.ensemble import RandomForestClassifier\n",
    "from sklearn.neighbors import KNeighborsClassifier\n",
    "from sklearn.metrics import roc_curve, auc\n",
    "from sklearn import tree\n",
    "from sklearn import gaussian_process\n",
    "from sklearn import linear_model\n",
    "\n",
    "X = np.genfromtxt(\"data/X_train.txt\")\n",
    "Y = np.genfromtxt(\"data/Y_train.txt\")\n",
    "Xte = np.genfromtxt('data/X_test.txt')\n",
    "\n",
    "'''\n",
    "Xtr = X[10000:20000]\n",
    "Xva = X[20000:30000]\n",
    "Ytr = Y[10000:20000]\n",
    "Yva = Y[20000:30000]\n",
    "'''\n",
    "\n",
    "Xtr, Xva, Ytr, Yva = ml.splitData(X, Y, 0.80)"
   ]
  },
  {
   "cell_type": "markdown",
   "metadata": {},
   "source": [
    "## Combining Classifiers"
   ]
  },
  {
   "cell_type": "code",
   "execution_count": 44,
   "metadata": {
    "collapsed": false
   },
   "outputs": [],
   "source": [
    "#1) Random Forest Classifier \n",
    "rf_clf = RandomForestClassifier(n_estimators=20, max_features=10, bootstrap=True, max_depth=20)\n",
    "\n",
    "#2) K Nearest Neighbors Classifier\n",
    "knn_clf = KNeighborsClassifier(algorithm='auto', leaf_size=30, metric='minkowski',\n",
    "           metric_params=None, n_jobs=1, n_neighbors=5, p=1,\n",
    "           weights='uniform')\n",
    "\n",
    "#3) AdaBoost Classifier\n",
    "dt = tree.DecisionTreeClassifier(max_depth=3)\n",
    "ada_clf = AdaBoostClassifier(base_estimator=dt, n_estimators=50)\n",
    "\n",
    "#List of classifiers\n",
    "listOfClf = [rf_clf, knn_clf, ada_clf]\n",
    "\n",
    "listOfPredictions = []\n",
    "for clf in listOfClf:\n",
    "    clf.fit(Xtr, Ytr)\n",
    "    \n",
    "    #Use this line for testing out the AUC Curve\n",
    "    listOfPredictions.append(clf.predict_proba(Xva)) \n",
    "\n",
    "    #Use this line for writing to Kaggle\n",
    "    #listOfPredictions.append(clf.predict_proba(Xte))\n",
    "    \n",
    "predictions = np.mean( np.array([ listOfPredictions[0], listOfPredictions[1], listOfPredictions[2] ]), axis=0 )\n",
    "\n"
   ]
  },
  {
   "cell_type": "code",
   "execution_count": 46,
   "metadata": {
    "collapsed": false
   },
   "outputs": [
    {
     "name": "stdout",
     "output_type": "stream",
     "text": [
      "0.74273934707\n"
     ]
    }
   ],
   "source": [
    "#Testing out the AUC Curve\n",
    "false_positive_rate, true_positive_rate, thresholds = roc_curve(Yva,predictions[:,1])\n",
    "roc_auc = auc(false_positive_rate, true_positive_rate)\n",
    "print roc_auc"
   ]
  },
  {
   "cell_type": "code",
   "execution_count": null,
   "metadata": {
    "collapsed": true
   },
   "outputs": [],
   "source": []
  },
  {
   "cell_type": "code",
   "execution_count": 47,
   "metadata": {
    "collapsed": true
   },
   "outputs": [],
   "source": [
    "#Writing to Kaggle\n",
    "\n",
    "# Now output a file with two columns, a row ID and a confidence in class 1:\n",
    "np.savetxt('classifiers_sklearn.txt',\n",
    "np.vstack( (np.arange(len(predictions)) , predictions[:,1]) ).T,\n",
    "'%d, %.2f',header='ID,Prob1',comments='',delimiter=',');"
   ]
  },
  {
   "cell_type": "code",
   "execution_count": null,
   "metadata": {
    "collapsed": true
   },
   "outputs": [],
   "source": []
  }
 ],
 "metadata": {
  "anaconda-cloud": {},
  "kernelspec": {
   "display_name": "Python [conda root]",
   "language": "python",
   "name": "conda-root-py"
  },
  "language_info": {
   "codemirror_mode": {
    "name": "ipython",
    "version": 2
   },
   "file_extension": ".py",
   "mimetype": "text/x-python",
   "name": "python",
   "nbconvert_exporter": "python",
   "pygments_lexer": "ipython2",
   "version": "2.7.12"
  }
 },
 "nbformat": 4,
 "nbformat_minor": 1
}
