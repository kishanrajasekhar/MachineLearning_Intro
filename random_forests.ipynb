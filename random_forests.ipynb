{
 "cells": [
  {
   "cell_type": "markdown",
   "metadata": {},
   "source": [
    "## Problem 2: Decision Trees on Kaggle"
   ]
  },
  {
   "cell_type": "code",
   "execution_count": 2,
   "metadata": {
    "collapsed": false
   },
   "outputs": [],
   "source": [
    "import numpy as np\n",
    "import matplotlib.pyplot as plt\n",
    "import mltools as ml\n",
    "\n",
    "\n",
    "X = np.genfromtxt(\"data/X_train.txt\")\n",
    "Y = np.genfromtxt(\"data/Y_train.txt\")\n",
    "\n",
    "Xtr, Xva, Ytr, Yva = ml.splitData(X, Y, 0.80)\n",
    "\n",
    "Xte = np.genfromtxt('data/X_test.txt')"
   ]
  },
  {
   "cell_type": "markdown",
   "metadata": {
    "collapsed": true
   },
   "source": [
    "### part f"
   ]
  },
  {
   "cell_type": "code",
   "execution_count": 11,
   "metadata": {
    "collapsed": false
   },
   "outputs": [
    {
     "name": "stdout",
     "output_type": "stream",
     "text": [
      "The area under the validation curve is 0.675478370811\n"
     ]
    },
    {
     "data": {
      "image/png": "[encoded data removed]",
      "text/plain": [
       "<matplotlib.figure.Figure at 0x3862da0>"
      ]
     },
     "metadata": {},
     "output_type": "display_data"
    }
   ],
   "source": [
    "learner = ml.dtree.treeClassify(Xtr, Ytr, maxDepth=10)\n",
    "print 'The area under the validation curve (blue) is', learner.auc(Xva, Yva)\n",
    "\n",
    "roc_data = learner.roc(Xva, Yva)\n",
    "false_positive = roc_data[0]\n",
    "true_positive = roc_data[1]\n",
    "\n",
    "roc_data_train = learner.roc(Xtr, Ytr)\n",
    "fpT = roc_data_train[0]\n",
    "tpT = roc_data_train[1]\n",
    "\n",
    "plt.plot(false_positive, true_positive, 'b-')\n",
    "plt.plot(fpT, tpT, 'r-')\n",
    "plt.xlabel(\"False positive rate\")\n",
    "plt.ylabel(\"True positive rate\")\n",
    "plt.show()"
   ]
  },
  {
   "cell_type": "markdown",
   "metadata": {},
   "source": [
    "### part g"
   ]
  },
  {
   "cell_type": "code",
   "execution_count": 13,
   "metadata": {
    "collapsed": true
   },
   "outputs": [],
   "source": [
    "Ypred = learner.predictSoft(Xte)\n",
    "# Now output a file with two columns, a row ID and a confidence in class 1:\n",
    "np.savetxt('test.txt',\n",
    "np.vstack( (np.arange(len(Ypred)) , Ypred[:,1]) ).T,\n",
    "'%d, %.2f',header='ID,Prob1',comments='',delimiter=',');"
   ]
  },
  {
   "cell_type": "markdown",
   "metadata": {},
   "source": [
    "## Problem 3: Random Forests"
   ]
  },
  {
   "cell_type": "markdown",
   "metadata": {},
   "source": [
    "### part a"
   ]
  },
  {
   "cell_type": "code",
   "execution_count": 3,
   "metadata": {
    "collapsed": false,
    "scrolled": true
   },
   "outputs": [
    {
     "name": "stdout",
     "output_type": "stream",
     "text": [
      "01 members: 0.134775 train, 0.19995 valid\n",
      "05 members: 0.1281 train, 0.208 valid\n",
      "10 members: 0.11015 train, 0.1988 valid\n",
      "15 members: 0.1282375 train, 0.2158 valid\n",
      "25 members: 0.1271125 train, 0.216 valid\n"
     ]
    }
   ],
   "source": [
    "M = Xtr.shape[0]\n",
    "Mv = Xva.shape[0]\n",
    "rforest = [None]*25\n",
    "YtHat = np.zeros((M,25))\n",
    "YvHat = np.zeros((Mv, 25))\n",
    "for l in range(25):\n",
    "    Xi, Yi = ml.bootstrapData(Xtr, Ytr, M)\n",
    "    rforest[l] = ml.dtree.treeClassify()\n",
    "    rforest[l].train(Xi, Yi, maxDepth=20, nFeatures=10)\n",
    "    YtHat[:,l] = rforest[l].predict(Xtr)\n",
    "    YvHat[:,l] = rforest[l].predict(Xva)\n",
    "    \n",
    "    if l+1 in [1,5,10,15,25]:\n",
    "        errT = ((Ytr - YtHat[:,0:l+1].mean(axis=1)>.5)).mean()\n",
    "        errV = ((Yva - YvHat[:,0:l+1].mean(axis=1)>.5)).mean()\n",
    "        print \"{:02d} members: {} train, {} valid\".format(l+1, errT, errV)"
   ]
  },
  {
   "cell_type": "code",
   "execution_count": 4,
   "metadata": {
    "collapsed": true
   },
   "outputs": [],
   "source": [
    "class randomForest(ml.base.classifier):\n",
    "    def __init__(self, learners):\n",
    "        self.learners=learners;\n",
    "        self.classes=learners[0].classes;\n",
    "    \n",
    "    def predictSoft(self,X):\n",
    "        ysoft = np.zeros((X.shape[0],len(self.classes)));\n",
    "        for i in range(len(self.learners)): \n",
    "            ysoft[:,1]+=self.learners[i].predict(X);\n",
    "        return ysoft/len(self.learners);"
   ]
  },
  {
   "cell_type": "code",
   "execution_count": 6,
   "metadata": {
    "collapsed": false
   },
   "outputs": [
    {
     "name": "stdout",
     "output_type": "stream",
     "text": [
      "AUC Train:  0.950973809281  Valid:  0.726222595191\n"
     ]
    }
   ],
   "source": [
    "rf = randomForest(rforest);\n",
    "print \"AUC Train: \",rf.auc(Xtr,Ytr),\" Valid: \",rf.auc(Xva,Yva)"
   ]
  },
  {
   "cell_type": "code",
   "execution_count": 7,
   "metadata": {
    "collapsed": false
   },
   "outputs": [
    {
     "data": {
      "image/png": "[encoded data removed]",
      "text/plain": [
       "<matplotlib.figure.Figure at 0xe0bae10>"
      ]
     },
     "metadata": {},
     "output_type": "display_data"
    }
   ],
   "source": [
    "roc_data = rf.roc(Xva, Yva)\n",
    "false_positive_val = roc_data[0]\n",
    "true_positive_val = roc_data[1]\n",
    "\n",
    "roc_data = rf.roc(Xtr, Ytr)\n",
    "false_positive_train = roc_data[0]\n",
    "true_positive_train = roc_data[1]\n",
    "\n",
    "plt.plot(false_positive_val, true_positive_val, 'b-')\n",
    "plt.plot(false_positive_train, true_positive_train, 'r-')\n",
    "plt.xlabel(\"False positive rate\")\n",
    "plt.ylabel(\"True positive rate\")\n",
    "plt.show()"
   ]
  },
  {
   "cell_type": "code",
   "execution_count": 9,
   "metadata": {
    "collapsed": false
   },
   "outputs": [
    {
     "name": "stdout",
     "output_type": "stream",
     "text": [
      "Ypred shape is (100000L, 2L)\n"
     ]
    }
   ],
   "source": [
    "Ypred = rf.predictSoft(Xte)\n",
    "print 'Ypred shape is', Ypred.shape\n",
    "# Now output a file with two columns, a row ID and a confidence in class 1:\n",
    "np.savetxt('Yhat_rforest.txt',\n",
    "np.vstack( (np.arange(len(Ypred)) , Ypred[:,1]) ).T,\n",
    "'%d, %.2f',header='ID,Prob1',comments='',delimiter=',');"
   ]
  },
  {
   "cell_type": "code",
   "execution_count": 1,
   "metadata": {
    "collapsed": false
   },
   "outputs": [
    {
     "ename": "NameError",
     "evalue": "name 'Ypred' is not defined",
     "output_type": "error",
     "traceback": [
      "\u001b[0;31m---------------------------------------------------------------------------\u001b[0m",
      "\u001b[0;31mNameError\u001b[0m                                 Traceback (most recent call last)",
      "\u001b[0;32m<ipython-input-1-4e45f42e1076>\u001b[0m in \u001b[0;36m<module>\u001b[0;34m()\u001b[0m\n\u001b[0;32m----> 1\u001b[0;31m \u001b[1;32mprint\u001b[0m \u001b[0mtype\u001b[0m\u001b[1;33m(\u001b[0m\u001b[0mYpred\u001b[0m\u001b[1;33m)\u001b[0m\u001b[1;33m\u001b[0m\u001b[0m\n\u001b[0m\u001b[1;32m      2\u001b[0m \u001b[1;32mprint\u001b[0m \u001b[0mYpred\u001b[0m\u001b[1;33m\u001b[0m\u001b[0m\n",
      "\u001b[0;31mNameError\u001b[0m: name 'Ypred' is not defined"
     ]
    }
   ],
   "source": [
    "print type(Ypred)\n",
    "print Ypred"
   ]
  },
  {
   "cell_type": "code",
   "execution_count": 11,
   "metadata": {
    "collapsed": false
   },
   "outputs": [
    {
     "data": {
      "text/plain": [
       "array([    0,     1,     2, ..., 99997, 99998, 99999])"
      ]
     },
     "execution_count": 11,
     "metadata": {},
     "output_type": "execute_result"
    }
   ],
   "source": [
    "np.arange(len(Ypred))"
   ]
  },
  {
   "cell_type": "code",
   "execution_count": 16,
   "metadata": {
    "collapsed": false
   },
   "outputs": [
    {
     "name": "stdout",
     "output_type": "stream",
     "text": [
      "100000\n",
      "100000\n"
     ]
    }
   ],
   "source": [
    "print len(Ypred[:,0])\n",
    "print len(Ypred[:,1])"
   ]
  },
  {
   "cell_type": "code",
   "execution_count": null,
   "metadata": {
    "collapsed": true
   },
   "outputs": [],
   "source": []
  }
 ],
 "metadata": {
  "anaconda-cloud": {},
  "kernelspec": {
   "display_name": "Python [conda root]",
   "language": "python",
   "name": "conda-root-py"
  },
  "language_info": {
   "codemirror_mode": {
    "name": "ipython",
    "version": 2
   },
   "file_extension": ".py",
   "mimetype": "text/x-python",
   "name": "python",
   "nbconvert_exporter": "python",
   "pygments_lexer": "ipython2",
   "version": "2.7.12"
  }
 },
 "nbformat": 4,
 "nbformat_minor": 1
}
