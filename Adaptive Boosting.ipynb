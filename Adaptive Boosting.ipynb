{
 "cells": [
  {
   "cell_type": "code",
   "execution_count": 1,
   "metadata": {
    "collapsed": false
   },
   "outputs": [
    {
     "data": {
      "text/plain": [
       "'\\nfrom math import log\\nnBoost = 10\\nlearners = [None] * nBoost # storage for ensemble of models\\nerrors = [0.0] * nBoost\\nweights = [1.0] * 10000 # and weights of each learner\\nalpha = [0.0] * nBoost #idk what alpha is used for...\\n\\nmu = np.mean(Ytr)\\ndY = Ytr - mu\\n\\nfor i in range(nBoost):\\n    learners[i] = ml.bayes.gaussClassify()\\n    learners[i].train(Xtr, Ytr, wts=weights)\\n    Yhat = learners[i].predict(Xtr)\\n    print learners[i].err(Xtr, Ytr)\\n    e = np.dot(weights, (Ytr!=Yhat))/10000\\n    alpha[i] = 0.5 * log((1-e)/e)\\n    weights *= np.exp(-alpha[i] * Ytr * Yhat)\\n    weights /= weights.sum()\\n'"
      ]
     },
     "execution_count": 1,
     "metadata": {},
     "output_type": "execute_result"
    }
   ],
   "source": [
    "'''\n",
    "from math import log\n",
    "nBoost = 10\n",
    "learners = [None] * nBoost # storage for ensemble of models\n",
    "errors = [0.0] * nBoost\n",
    "weights = [1.0] * 10000 # and weights of each learner\n",
    "alpha = [0.0] * nBoost #idk what alpha is used for...\n",
    "\n",
    "mu = np.mean(Ytr)\n",
    "dY = Ytr - mu\n",
    "\n",
    "for i in range(nBoost):\n",
    "    learners[i] = ml.bayes.gaussClassify()\n",
    "    learners[i].train(Xtr, Ytr, wts=weights)\n",
    "    Yhat = learners[i].predict(Xtr)\n",
    "    print learners[i].err(Xtr, Ytr)\n",
    "    e = np.dot(weights, (Ytr!=Yhat))/10000\n",
    "    alpha[i] = 0.5 * log((1-e)/e)\n",
    "    weights *= np.exp(-alpha[i] * Ytr * Yhat)\n",
    "    weights /= weights.sum()\n",
    "'''"
   ]
  },
  {
   "cell_type": "code",
   "execution_count": 2,
   "metadata": {
    "collapsed": false
   },
   "outputs": [
    {
     "data": {
      "text/plain": [
       "\"\\n# Final classifier\\npredict = np.zeros((10000,))\\nfor i in range(nBoost):\\n    predict += alpha[i] * learners[i].predict(Xva)\\n    \\nfor i in range(len(predict)):\\n    if i == 0:\\n        predict[i] = -1\\npredict = np.sign(predict)\\nfor i in range(len(predict)):\\n    if i == -1:\\n        predict[i] = 0\\n        \\nprint 'error is', 1.0*sum(predict != Yva)/10000\\n\""
      ]
     },
     "execution_count": 2,
     "metadata": {},
     "output_type": "execute_result"
    }
   ],
   "source": [
    "'''\n",
    "# Final classifier\n",
    "predict = np.zeros((10000,))\n",
    "for i in range(nBoost):\n",
    "    predict += alpha[i] * learners[i].predict(Xva)\n",
    "    \n",
    "for i in range(len(predict)):\n",
    "    if i == 0:\n",
    "        predict[i] = -1\n",
    "predict = np.sign(predict)\n",
    "for i in range(len(predict)):\n",
    "    if i == -1:\n",
    "        predict[i] = 0\n",
    "        \n",
    "print 'error is', 1.0*sum(predict != Yva)/10000\n",
    "'''"
   ]
  },
  {
   "cell_type": "code",
   "execution_count": 1,
   "metadata": {
    "collapsed": true
   },
   "outputs": [],
   "source": [
    "import numpy as np\n",
    "import matplotlib.pyplot as plt\n",
    "import mltools as ml\n",
    "\n",
    "\n",
    "X = np.genfromtxt(\"data/X_train.txt\")\n",
    "Y = np.genfromtxt(\"data/Y_train.txt\")\n",
    "Xte = np.genfromtxt('data/X_test.txt')\n",
    "\n",
    "'''\n",
    "Xtr = X[10000:20000]\n",
    "Xva = X[20000:30000]\n",
    "Ytr = Y[10000:20000]\n",
    "Yva = Y[20000:30000]\n",
    "'''\n",
    "\n",
    "Xtr, Xva, Ytr, Yva = ml.splitData(X, Y, 0.80)"
   ]
  },
  {
   "cell_type": "code",
   "execution_count": 2,
   "metadata": {
    "collapsed": true
   },
   "outputs": [],
   "source": [
    "def get_err_rate(yval, ypred):\n",
    "    err_count = 0\n",
    "    for i in range(len(yval)):\n",
    "        if not(yval[i] == ypred[i]):\n",
    "            err_count+=1\n",
    "    return 1.0*err_count/len(yval)"
   ]
  },
  {
   "cell_type": "code",
   "execution_count": 3,
   "metadata": {
    "collapsed": false
   },
   "outputs": [],
   "source": [
    "from sklearn.ensemble import AdaBoostClassifier\n",
    "from sklearn.metrics import roc_curve, auc\n",
    "from sklearn import tree\n",
    "from sklearn import gaussian_process\n",
    "from sklearn import linear_model"
   ]
  },
  {
   "cell_type": "raw",
   "metadata": {
    "collapsed": false
   },
   "source": [
    "\n",
    "# testing error at different depths\n",
    "num_tests = 5\n",
    "err_train = [0.0] * num_tests\n",
    "err_val = [0.0] * num_tests\n",
    "for i in range(1,num_tests+1):\n",
    "    dt = tree.DecisionTreeClassifier(max_depth=i)\n",
    "    ada_clf = AdaBoostClassifier(base_estimator=dt, n_estimators=50)\n",
    "    # training data\n",
    "    ada_clf.fit(Xtr, Ytr)\n",
    "    ada_yh = ada_clf.predict(Xtr)\n",
    "    err_train[i-1] = get_err_rate(ada_yh, Ytr)\n",
    "    # validation data\n",
    "    ada_clf.fit(Xva, Yva)\n",
    "    ada_yh = ada_clf.predict(Xva)\n",
    "    err_val[i-1] = get_err_rate(ada_yh, Yva)\n",
    "\n",
    "print err_train\n",
    "print err_val\n",
    "\n",
    "#BUT ROC  is better with max_depth = 2? wait nvm"
   ]
  },
  {
   "cell_type": "code",
   "execution_count": 10,
   "metadata": {
    "collapsed": false
   },
   "outputs": [
    {
     "data": {
      "text/plain": [
       "AdaBoostClassifier(algorithm='SAMME.R',\n",
       "          base_estimator=DecisionTreeClassifier(class_weight=None, criterion='gini', max_depth=1,\n",
       "            max_features=None, max_leaf_nodes=None,\n",
       "            min_impurity_split=1e-07, min_samples_leaf=1,\n",
       "            min_samples_split=2, min_weight_fraction_leaf=0.0,\n",
       "            presort=False, random_state=None, splitter='best'),\n",
       "          learning_rate=1.0, n_estimators=50, random_state=None)"
      ]
     },
     "execution_count": 10,
     "metadata": {},
     "output_type": "execute_result"
    }
   ],
   "source": [
    "dt = tree.DecisionTreeClassifier(max_depth=1)\n",
    "ada_clf = AdaBoostClassifier(base_estimator=dt, n_estimators=50)\n",
    "ada_clf.fit(Xtr, Ytr)"
   ]
  },
  {
   "cell_type": "code",
   "execution_count": 11,
   "metadata": {
    "collapsed": false
   },
   "outputs": [
    {
     "name": "stdout",
     "output_type": "stream",
     "text": [
      "0.678114198594\n"
     ]
    }
   ],
   "source": [
    "ada_yhat = ada_clf.predict_proba(Xtr)\n",
    "false_positive_rate, true_positive_rate, thresholds = roc_curve(Ytr, ada_yhat[:,1])\n",
    "roc_auc = auc(false_positive_rate, true_positive_rate)\n",
    "print roc_auc"
   ]
  },
  {
   "cell_type": "code",
   "execution_count": 12,
   "metadata": {
    "collapsed": false,
    "scrolled": true
   },
   "outputs": [
    {
     "name": "stdout",
     "output_type": "stream",
     "text": [
      "0.672908172804\n"
     ]
    }
   ],
   "source": [
    "ada_yhat = ada_clf.predict_proba(Xva)\n",
    "false_positive_rate, true_positive_rate, thresholds = roc_curve(Yva, ada_yhat[:,1])\n",
    "roc_auc = auc(false_positive_rate, true_positive_rate)\n",
    "print roc_auc"
   ]
  },
  {
   "cell_type": "code",
   "execution_count": 13,
   "metadata": {
    "collapsed": true
   },
   "outputs": [],
   "source": [
    "# Now output a file with two columns, a row ID and a confidence in class 1:\n",
    "ada_yhat = ada_clf.predict_proba(Xte)\n",
    "np.savetxt('Yhat_adaboost_decisiontree.txt',\n",
    "np.vstack( (np.arange(len(ada_yhat)) , ada_yhat[:,1]) ).T,\n",
    "'%d, %.2f',header='ID,Prob1',comments='',delimiter=',');"
   ]
  },
  {
   "cell_type": "raw",
   "metadata": {
    "collapsed": false
   },
   "source": [
    "# Test this out with another classifier...\n",
    "dt = tree.DecisionTreeClassifier(max_depth=2)\n",
    "perceptron = linear_model.Perceptron()\n",
    "ada_clfp = AdaBoostClassifier(base_estimator=perceptron)\n",
    "ada_clfp.algorithm = 'SAMME'\n",
    "ada_clfp.fit(Xtr, Ytr)"
   ]
  },
  {
   "cell_type": "code",
   "execution_count": null,
   "metadata": {
    "collapsed": true
   },
   "outputs": [],
   "source": []
  }
 ],
 "metadata": {
  "anaconda-cloud": {},
  "kernelspec": {
   "display_name": "Python [conda root]",
   "language": "python",
   "name": "conda-root-py"
  },
  "language_info": {
   "codemirror_mode": {
    "name": "ipython",
    "version": 2
   },
   "file_extension": ".py",
   "mimetype": "text/x-python",
   "name": "python",
   "nbconvert_exporter": "python",
   "pygments_lexer": "ipython2",
   "version": "2.7.12"
  }
 },
 "nbformat": 4,
 "nbformat_minor": 1
}
